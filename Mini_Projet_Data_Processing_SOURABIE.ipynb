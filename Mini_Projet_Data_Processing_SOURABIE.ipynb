{
 "cells": [
  {
   "cell_type": "markdown",
   "metadata": {},
   "source": [
    "\n",
    " # Mini Projet – Traitement de Données avec Python - Pandas\n",
    " \n",
    "        [=> SOURABIE Kikin Abdoul Kader\n"
   ]
  },
  {
   "cell_type": "markdown",
   "metadata": {},
   "source": [
    "# 0. Importation des bibiliothèques"
   ]
  },
  {
   "cell_type": "code",
   "execution_count": 1,
   "metadata": {},
   "outputs": [],
   "source": [
    "import os\n",
    "import pandas as pd\n",
    "import string\n",
    "import xlsxwriter"
   ]
  },
  {
   "cell_type": "markdown",
   "metadata": {},
   "source": [
    "# 1.  Préparation du repertoire des données"
   ]
  },
  {
   "cell_type": "code",
   "execution_count": 2,
   "metadata": {},
   "outputs": [],
   "source": [
    "os.chdir(\"C:/Users/SOURABIE/Desktop/Master FD & IA/Data Processing/BF\") "
   ]
  },
  {
   "cell_type": "markdown",
   "metadata": {},
   "source": [
    "# 2. Chargement de la base de données"
   ]
  },
  {
   "cell_type": "code",
   "execution_count": 3,
   "metadata": {},
   "outputs": [],
   "source": [
    "collone=[\"geonameid\",\"name\",\"asciiname\",  \"alternatenames\",\"latitude\",\"longitude\", \"feature class\",\"feature code\", \"country code\", \n",
    "     \"cc2\", \"admin1 code\", \"admin2 code\",\"admin3 code\",\"admin4 code\",\"population\", \"elevation\", \"dem\", \"timezone\", \"modification date\"]\n",
    "\n",
    "bfa = pd.read_csv(\"BF.txt\",delimiter=\"\\t\", header=None, names=collone)"
   ]
  },
  {
   "cell_type": "markdown",
   "metadata": {},
   "source": [
    "# 3. Appliquons les opérations de prétraitement et filtres nécessaires à ce fichier "
   ]
  },
  {
   "cell_type": "code",
   "execution_count": 4,
   "metadata": {},
   "outputs": [
    {
     "name": "stderr",
     "output_type": "stream",
     "text": [
      "C:\\Users\\SOURABIE\\anaconda3\\lib\\site-packages\\pandas\\core\\frame.py:4125: SettingWithCopyWarning: \n",
      "A value is trying to be set on a copy of a slice from a DataFrame\n",
      "\n",
      "See the caveats in the documentation: https://pandas.pydata.org/pandas-docs/stable/user_guide/indexing.html#returning-a-view-versus-a-copy\n",
      "  return super().rename(\n"
     ]
    }
   ],
   "source": [
    "# 3.1 Gardons que les colonnes correspondantes à Identifiant, les Noms de lieux , latitudes et  longitudes \n",
    "\n",
    "selected_collone = [\"geonameid\", \"asciiname\", \"latitude\", \"longitude\"]\n",
    "\n",
    "sub_bfa = bfa[selected_collone]\n",
    "\n",
    "# 3.2 Renommons les avec les noms suivants : 'ID', 'location_name', 'lat', 'long'\n",
    "\n",
    "rename_col = {\"geonameid\":\"ID\", \"asciiname\":\"location_name\", \"latitude\":\"lat\", \"longitude\":\"long\"}\n",
    "\n",
    "sub_bfa.rename(columns = rename_col, inplace=True)\n",
    "\n",
    "# 3.3 Sauvegardons ces données dans un fichier CSV, nommez-le burkina_location.csv\n",
    "\n",
    "sub_bfa.to_csv(\"burkina_location.csv\")"
   ]
  },
  {
   "cell_type": "markdown",
   "metadata": {},
   "source": [
    "# 4. Opérations sur le fichier CSV burkina_location.csv \n"
   ]
  },
  {
   "cell_type": "code",
   "execution_count": 5,
   "metadata": {},
   "outputs": [],
   "source": [
    "# 4.1 Extrairons les données contenant le nom 'gounghin'et enregistrons-le sous le fichier gounghin.csv\n",
    "\n",
    "burkina_location = pd.read_csv('burkina_location.csv')\n",
    "\n",
    "burkina_location_gounghin = burkina_location[burkina_location.location_name.str.lower()==\"gounghin\"]\n",
    "\n",
    "burkina_location_gounghin.to_csv('gounghin.csv')"
   ]
  },
  {
   "cell_type": "code",
   "execution_count": 6,
   "metadata": {},
   "outputs": [
    {
     "data": {
      "text/html": [
       "<div>\n",
       "<style scoped>\n",
       "    .dataframe tbody tr th:only-of-type {\n",
       "        vertical-align: middle;\n",
       "    }\n",
       "\n",
       "    .dataframe tbody tr th {\n",
       "        vertical-align: top;\n",
       "    }\n",
       "\n",
       "    .dataframe thead th {\n",
       "        text-align: right;\n",
       "    }\n",
       "</style>\n",
       "<table border=\"1\" class=\"dataframe\">\n",
       "  <thead>\n",
       "    <tr style=\"text-align: right;\">\n",
       "      <th></th>\n",
       "      <th>Unnamed: 0</th>\n",
       "      <th>ID</th>\n",
       "      <th>location_name</th>\n",
       "      <th>lat</th>\n",
       "      <th>long</th>\n",
       "    </tr>\n",
       "  </thead>\n",
       "  <tbody>\n",
       "    <tr>\n",
       "      <th>10590</th>\n",
       "      <td>10590</td>\n",
       "      <td>6913771</td>\n",
       "      <td>Abanda</td>\n",
       "      <td>15.06808</td>\n",
       "      <td>-0.59805</td>\n",
       "    </tr>\n",
       "    <tr>\n",
       "      <th>10013</th>\n",
       "      <td>10013</td>\n",
       "      <td>2363251</td>\n",
       "      <td>Abanga</td>\n",
       "      <td>13.32429</td>\n",
       "      <td>0.31151</td>\n",
       "    </tr>\n",
       "    <tr>\n",
       "      <th>11035</th>\n",
       "      <td>11035</td>\n",
       "      <td>11980339</td>\n",
       "      <td>Abassi</td>\n",
       "      <td>12.27728</td>\n",
       "      <td>-1.13662</td>\n",
       "    </tr>\n",
       "    <tr>\n",
       "      <th>10551</th>\n",
       "      <td>10551</td>\n",
       "      <td>6874881</td>\n",
       "      <td>Abaye</td>\n",
       "      <td>13.44080</td>\n",
       "      <td>-3.90190</td>\n",
       "    </tr>\n",
       "    <tr>\n",
       "      <th>10012</th>\n",
       "      <td>10012</td>\n",
       "      <td>2363250</td>\n",
       "      <td>Aberekui</td>\n",
       "      <td>12.50000</td>\n",
       "      <td>-3.41667</td>\n",
       "    </tr>\n",
       "  </tbody>\n",
       "</table>\n",
       "</div>"
      ],
      "text/plain": [
       "       Unnamed: 0        ID location_name       lat     long\n",
       "10590       10590   6913771        Abanda  15.06808 -0.59805\n",
       "10013       10013   2363251        Abanga  13.32429  0.31151\n",
       "11035       11035  11980339        Abassi  12.27728 -1.13662\n",
       "10551       10551   6874881         Abaye  13.44080 -3.90190\n",
       "10012       10012   2363250      Aberekui  12.50000 -3.41667"
      ]
     },
     "execution_count": 6,
     "metadata": {},
     "output_type": "execute_result"
    }
   ],
   "source": [
    "# 4.2 Extraire la sous-partie de burkina_location.csv , dont les premières lettres des noms de lieux sont compris entre 'A' et'P'\n",
    "\n",
    "burkina_location_a_p = burkina_location[(burkina_location.location_name.str[0] >= \"A\" ) & (burkina_location.location_name.str[0] <=\"P\" ) ]\n",
    "\n",
    "burkina_location_a_p = burkina_location_a_p.sort_values(by='location_name')\n",
    "\n",
    "burkina_location_a_p.head()"
   ]
  },
  {
   "cell_type": "code",
   "execution_count": 7,
   "metadata": {},
   "outputs": [
    {
     "data": {
      "text/html": [
       "<div>\n",
       "<style scoped>\n",
       "    .dataframe tbody tr th:only-of-type {\n",
       "        vertical-align: middle;\n",
       "    }\n",
       "\n",
       "    .dataframe tbody tr th {\n",
       "        vertical-align: top;\n",
       "    }\n",
       "\n",
       "    .dataframe thead th {\n",
       "        text-align: right;\n",
       "    }\n",
       "</style>\n",
       "<table border=\"1\" class=\"dataframe\">\n",
       "  <thead>\n",
       "    <tr style=\"text-align: right;\">\n",
       "      <th></th>\n",
       "      <th>Unnamed: 0</th>\n",
       "      <th>ID</th>\n",
       "      <th>location_name</th>\n",
       "      <th>lat</th>\n",
       "      <th>long</th>\n",
       "    </tr>\n",
       "  </thead>\n",
       "  <tbody>\n",
       "    <tr>\n",
       "      <th>10357</th>\n",
       "      <td>10357</td>\n",
       "      <td>2597270</td>\n",
       "      <td>Province du Zondoma</td>\n",
       "      <td>13.18333</td>\n",
       "      <td>-2.36667</td>\n",
       "    </tr>\n",
       "    <tr>\n",
       "      <th>3107</th>\n",
       "      <td>3107</td>\n",
       "      <td>2356291</td>\n",
       "      <td>Pwedogo</td>\n",
       "      <td>12.67657</td>\n",
       "      <td>-1.86640</td>\n",
       "    </tr>\n",
       "    <tr>\n",
       "      <th>3106</th>\n",
       "      <td>3106</td>\n",
       "      <td>2356290</td>\n",
       "      <td>Pwiga</td>\n",
       "      <td>14.42583</td>\n",
       "      <td>-0.50691</td>\n",
       "    </tr>\n",
       "    <tr>\n",
       "      <th>3105</th>\n",
       "      <td>3105</td>\n",
       "      <td>2356289</td>\n",
       "      <td>Pyeongou</td>\n",
       "      <td>12.11667</td>\n",
       "      <td>0.55000</td>\n",
       "    </tr>\n",
       "    <tr>\n",
       "      <th>3103</th>\n",
       "      <td>3103</td>\n",
       "      <td>2356287</td>\n",
       "      <td>Pyourgou</td>\n",
       "      <td>12.25000</td>\n",
       "      <td>-0.46667</td>\n",
       "    </tr>\n",
       "  </tbody>\n",
       "</table>\n",
       "</div>"
      ],
      "text/plain": [
       "       Unnamed: 0       ID        location_name       lat     long\n",
       "10357       10357  2597270  Province du Zondoma  13.18333 -2.36667\n",
       "3107         3107  2356291              Pwedogo  12.67657 -1.86640\n",
       "3106         3106  2356290                Pwiga  14.42583 -0.50691\n",
       "3105         3105  2356289             Pyeongou  12.11667  0.55000\n",
       "3103         3103  2356287             Pyourgou  12.25000 -0.46667"
      ]
     },
     "execution_count": 7,
     "metadata": {},
     "output_type": "execute_result"
    }
   ],
   "source": [
    "burkina_location_a_p.tail()"
   ]
  },
  {
   "cell_type": "code",
   "execution_count": 8,
   "metadata": {},
   "outputs": [],
   "source": [
    "# Enregistrement de burkina_location_a_p sous format csv\n",
    "\n",
    "burkina_location_a_p.to_csv('burkina_location_a_p.csv')"
   ]
  },
  {
   "cell_type": "code",
   "execution_count": 9,
   "metadata": {},
   "outputs": [
    {
     "data": {
      "text/html": [
       "<div>\n",
       "<style scoped>\n",
       "    .dataframe tbody tr th:only-of-type {\n",
       "        vertical-align: middle;\n",
       "    }\n",
       "\n",
       "    .dataframe tbody tr th {\n",
       "        vertical-align: top;\n",
       "    }\n",
       "\n",
       "    .dataframe thead th {\n",
       "        text-align: right;\n",
       "    }\n",
       "</style>\n",
       "<table border=\"1\" class=\"dataframe\">\n",
       "  <thead>\n",
       "    <tr style=\"text-align: right;\">\n",
       "      <th></th>\n",
       "      <th>Unnamed: 0</th>\n",
       "      <th>ID</th>\n",
       "      <th>location_name</th>\n",
       "      <th>lat</th>\n",
       "      <th>long</th>\n",
       "    </tr>\n",
       "  </thead>\n",
       "  <tbody>\n",
       "    <tr>\n",
       "      <th>11149</th>\n",
       "      <td>11149</td>\n",
       "      <td>12224995</td>\n",
       "      <td>Fadio-Mepehn</td>\n",
       "      <td>9.4295</td>\n",
       "      <td>-2.7775</td>\n",
       "    </tr>\n",
       "  </tbody>\n",
       "</table>\n",
       "</div>"
      ],
      "text/plain": [
       "       Unnamed: 0        ID location_name     lat    long\n",
       "11149       11149  12224995  Fadio-Mepehn  9.4295 -2.7775"
      ]
     },
     "execution_count": 9,
     "metadata": {},
     "output_type": "execute_result"
    }
   ],
   "source": [
    "# 4.3 Identifions la latitude minimale et les noms de lieux correspondants dans le fichier burkina_location.csv.\n",
    "burkina_location[burkina_location.lat == burkina_location.lat.min()]"
   ]
  },
  {
   "cell_type": "code",
   "execution_count": 11,
   "metadata": {},
   "outputs": [
    {
     "data": {
      "text/html": [
       "<div>\n",
       "<style scoped>\n",
       "    .dataframe tbody tr th:only-of-type {\n",
       "        vertical-align: middle;\n",
       "    }\n",
       "\n",
       "    .dataframe tbody tr th {\n",
       "        vertical-align: top;\n",
       "    }\n",
       "\n",
       "    .dataframe thead th {\n",
       "        text-align: right;\n",
       "    }\n",
       "</style>\n",
       "<table border=\"1\" class=\"dataframe\">\n",
       "  <thead>\n",
       "    <tr style=\"text-align: right;\">\n",
       "      <th></th>\n",
       "      <th>Unnamed: 0</th>\n",
       "      <th>ID</th>\n",
       "      <th>location_name</th>\n",
       "      <th>lat</th>\n",
       "      <th>long</th>\n",
       "    </tr>\n",
       "  </thead>\n",
       "  <tbody>\n",
       "    <tr>\n",
       "      <th>1255</th>\n",
       "      <td>1255</td>\n",
       "      <td>2354426</td>\n",
       "      <td>Tinobole</td>\n",
       "      <td>10.75</td>\n",
       "      <td>-5.48333</td>\n",
       "    </tr>\n",
       "  </tbody>\n",
       "</table>\n",
       "</div>"
      ],
      "text/plain": [
       "      Unnamed: 0       ID location_name    lat     long\n",
       "1255        1255  2354426      Tinobole  10.75 -5.48333"
      ]
     },
     "execution_count": 11,
     "metadata": {},
     "output_type": "execute_result"
    }
   ],
   "source": [
    "# Identifions la longitude minimale et les noms de lieux correspondants dans le fichier burkina_location.csv.\n",
    "\n",
    "burkina_location[burkina_location.long == burkina_location.long.min()]"
   ]
  },
  {
   "cell_type": "code",
   "execution_count": 12,
   "metadata": {},
   "outputs": [
    {
     "data": {
      "text/html": [
       "<div>\n",
       "<style scoped>\n",
       "    .dataframe tbody tr th:only-of-type {\n",
       "        vertical-align: middle;\n",
       "    }\n",
       "\n",
       "    .dataframe tbody tr th {\n",
       "        vertical-align: top;\n",
       "    }\n",
       "\n",
       "    .dataframe thead th {\n",
       "        text-align: right;\n",
       "    }\n",
       "</style>\n",
       "<table border=\"1\" class=\"dataframe\">\n",
       "  <thead>\n",
       "    <tr style=\"text-align: right;\">\n",
       "      <th></th>\n",
       "      <th>Unnamed: 0</th>\n",
       "      <th>ID</th>\n",
       "      <th>location_name</th>\n",
       "      <th>lat</th>\n",
       "      <th>long</th>\n",
       "    </tr>\n",
       "  </thead>\n",
       "  <tbody>\n",
       "    <tr>\n",
       "      <th>0</th>\n",
       "      <td>0</td>\n",
       "      <td>2353158</td>\n",
       "      <td>Zyonguen</td>\n",
       "      <td>12.36667</td>\n",
       "      <td>-0.45000</td>\n",
       "    </tr>\n",
       "    <tr>\n",
       "      <th>1</th>\n",
       "      <td>1</td>\n",
       "      <td>2353159</td>\n",
       "      <td>Zyiliwele</td>\n",
       "      <td>12.38333</td>\n",
       "      <td>-2.73333</td>\n",
       "    </tr>\n",
       "    <tr>\n",
       "      <th>2</th>\n",
       "      <td>2</td>\n",
       "      <td>2353160</td>\n",
       "      <td>Zyanko</td>\n",
       "      <td>12.78333</td>\n",
       "      <td>-0.41667</td>\n",
       "    </tr>\n",
       "    <tr>\n",
       "      <th>3</th>\n",
       "      <td>3</td>\n",
       "      <td>2353161</td>\n",
       "      <td>Zouta</td>\n",
       "      <td>13.14908</td>\n",
       "      <td>-1.28197</td>\n",
       "    </tr>\n",
       "    <tr>\n",
       "      <th>4</th>\n",
       "      <td>4</td>\n",
       "      <td>2353162</td>\n",
       "      <td>Zourtenga</td>\n",
       "      <td>12.95741</td>\n",
       "      <td>-1.28745</td>\n",
       "    </tr>\n",
       "    <tr>\n",
       "      <th>...</th>\n",
       "      <td>...</td>\n",
       "      <td>...</td>\n",
       "      <td>...</td>\n",
       "      <td>...</td>\n",
       "      <td>...</td>\n",
       "    </tr>\n",
       "    <tr>\n",
       "      <th>11288</th>\n",
       "      <td>11288</td>\n",
       "      <td>12358467</td>\n",
       "      <td>Kate</td>\n",
       "      <td>14.13461</td>\n",
       "      <td>-0.81244</td>\n",
       "    </tr>\n",
       "    <tr>\n",
       "      <th>11290</th>\n",
       "      <td>11290</td>\n",
       "      <td>12358654</td>\n",
       "      <td>Koulhole</td>\n",
       "      <td>13.43898</td>\n",
       "      <td>-1.16817</td>\n",
       "    </tr>\n",
       "    <tr>\n",
       "      <th>11293</th>\n",
       "      <td>11293</td>\n",
       "      <td>12358657</td>\n",
       "      <td>Nagbingou</td>\n",
       "      <td>13.55244</td>\n",
       "      <td>-0.46760</td>\n",
       "    </tr>\n",
       "    <tr>\n",
       "      <th>11295</th>\n",
       "      <td>11295</td>\n",
       "      <td>12358676</td>\n",
       "      <td>Sella</td>\n",
       "      <td>14.35699</td>\n",
       "      <td>0.28666</td>\n",
       "    </tr>\n",
       "    <tr>\n",
       "      <th>11296</th>\n",
       "      <td>11296</td>\n",
       "      <td>12358677</td>\n",
       "      <td>Kiefaye</td>\n",
       "      <td>13.78260</td>\n",
       "      <td>-1.58790</td>\n",
       "    </tr>\n",
       "  </tbody>\n",
       "</table>\n",
       "<p>9026 rows × 5 columns</p>\n",
       "</div>"
      ],
      "text/plain": [
       "       Unnamed: 0        ID location_name       lat     long\n",
       "0               0   2353158      Zyonguen  12.36667 -0.45000\n",
       "1               1   2353159     Zyiliwele  12.38333 -2.73333\n",
       "2               2   2353160        Zyanko  12.78333 -0.41667\n",
       "3               3   2353161         Zouta  13.14908 -1.28197\n",
       "4               4   2353162     Zourtenga  12.95741 -1.28745\n",
       "...           ...       ...           ...       ...      ...\n",
       "11288       11288  12358467          Kate  14.13461 -0.81244\n",
       "11290       11290  12358654      Koulhole  13.43898 -1.16817\n",
       "11293       11293  12358657     Nagbingou  13.55244 -0.46760\n",
       "11295       11295  12358676         Sella  14.35699  0.28666\n",
       "11296       11296  12358677       Kiefaye  13.78260 -1.58790\n",
       "\n",
       "[9026 rows x 5 columns]"
      ]
     },
     "execution_count": 12,
     "metadata": {},
     "output_type": "execute_result"
    }
   ],
   "source": [
    "# 4.4 Donnons les lieux dont les coordonnées sont comprises entre (lat >= 11 et lon<= 0.5)\n",
    "burkina_location[(burkina_location.lat >= 11 ) & (burkina_location.long <= 0.5 ) ]"
   ]
  },
  {
   "cell_type": "markdown",
   "metadata": {},
   "source": [
    "# 5. Sorties Excel"
   ]
  },
  {
   "cell_type": "code",
   "execution_count": 13,
   "metadata": {},
   "outputs": [],
   "source": [
    "# 5.1 Créons un fichier Excel mini_projet et créons les feuilles 'gounghin' et 'A_to_P' \n",
    "\n",
    "workbook  = xlsxwriter.Workbook(os.path.join(os.getcwd(), 'mini_projet.xlsx'))\n",
    "sheet_gounghin = workbook.add_worksheet('gounghin')\n",
    "sheet_a_to_p = workbook.add_worksheet('A_to_P')\n",
    "\n",
    "# Excluons la collone 'Unnamed'\n",
    "\n",
    "colonnes = [c for c in list(burkina_location_gounghin.columns) if c!='Unnamed: 0']\n",
    "\n",
    "# Création des entêtes \n",
    "\n",
    "for i in range(len(colonnes)):\n",
    "        sheet_gounghin.write(0, i, colonnes[i])\n",
    "        sheet_a_to_p.write(0, i, colonnes[i])\n",
    "        \n",
    "#5.2 Renseignement des données de la feuille 'gounghin' \n",
    "\n",
    "for i in range(burkina_location_gounghin.shape[0]):\n",
    "    for j in range(len(colonnes)):\n",
    "        sheet_gounghin.write(i+1, j, burkina_location_gounghin.iloc[i][colonnes[j]])\n",
    "\n",
    "#5.2 Renseignement des données de la feuille  'A_to_P' \n",
    "for i in range(burkina_location_a_p.shape[0]):\n",
    "    for j in range(len(colonnes)):\n",
    "        sheet_a_to_p.write(i+1, j, burkina_location_a_p.iloc[i][colonnes[j]])\n",
    "workbook.close()"
   ]
  }
 ],
 "metadata": {
  "kernelspec": {
   "display_name": "Python 3",
   "language": "python",
   "name": "python3"
  },
  "language_info": {
   "codemirror_mode": {
    "name": "ipython",
    "version": 3
   },
   "file_extension": ".py",
   "mimetype": "text/x-python",
   "name": "python",
   "nbconvert_exporter": "python",
   "pygments_lexer": "ipython3",
   "version": "3.8.3"
  }
 },
 "nbformat": 4,
 "nbformat_minor": 4
}
